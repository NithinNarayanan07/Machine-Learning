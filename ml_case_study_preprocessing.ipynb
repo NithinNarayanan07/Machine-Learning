{
  "nbformat": 4,
  "nbformat_minor": 0,
  "metadata": {
    "colab": {
      "name": "ml_case_study_preprocessing.ipynb",
      "provenance": [],
      "mount_file_id": "https://github.com/raghuls72001/Machine-Learning/blob/main/ml_case_study_preprocessing.ipynb",
      "authorship_tag": "ABX9TyNjedwD/CHni5AD+5G9moaN",
      "include_colab_link": true
    },
    "kernelspec": {
      "name": "python3",
      "display_name": "Python 3"
    },
    "language_info": {
      "name": "python"
    }
  },
  "cells": [
    {
      "cell_type": "markdown",
      "metadata": {
        "id": "view-in-github",
        "colab_type": "text"
      },
      "source": [
        "<a href=\"https://colab.research.google.com/github/raghuls72001/Machine-Learning/blob/main/ml_case_study_preprocessing.ipynb\" target=\"_parent\"><img src=\"https://colab.research.google.com/assets/colab-badge.svg\" alt=\"Open In Colab\"/></a>"
      ]
    },
    {
      "cell_type": "code",
      "metadata": {
        "id": "ykI7L6yrNHUC"
      },
      "source": [
        "import pandas as pd\n",
        "from sklearn.preprocessing import LabelEncoder"
      ],
      "execution_count": 1,
      "outputs": []
    },
    {
      "cell_type": "code",
      "metadata": {
        "colab": {
          "base_uri": "https://localhost:8080/",
          "height": 568
        },
        "id": "ibOmv-rvNnwF",
        "outputId": "8771f8eb-e0e9-4cb8-d354-91dc2e2de1b9"
      },
      "source": [
        "df=pd.read_csv('/content/drive/MyDrive/Machine Learning/Movies1.csv')\n",
        "df"
      ],
      "execution_count": 3,
      "outputs": [
        {
          "output_type": "execute_result",
          "data": {
            "text/html": [
              "<div>\n",
              "<style scoped>\n",
              "    .dataframe tbody tr th:only-of-type {\n",
              "        vertical-align: middle;\n",
              "    }\n",
              "\n",
              "    .dataframe tbody tr th {\n",
              "        vertical-align: top;\n",
              "    }\n",
              "\n",
              "    .dataframe thead th {\n",
              "        text-align: right;\n",
              "    }\n",
              "</style>\n",
              "<table border=\"1\" class=\"dataframe\">\n",
              "  <thead>\n",
              "    <tr style=\"text-align: right;\">\n",
              "      <th></th>\n",
              "      <th>Unnamed: 0</th>\n",
              "      <th>userId</th>\n",
              "      <th>movieId</th>\n",
              "      <th>title</th>\n",
              "      <th>genres</th>\n",
              "      <th>review</th>\n",
              "      <th>rating</th>\n",
              "    </tr>\n",
              "  </thead>\n",
              "  <tbody>\n",
              "    <tr>\n",
              "      <th>0</th>\n",
              "      <td>0</td>\n",
              "      <td>1.0</td>\n",
              "      <td>1.0</td>\n",
              "      <td>Toy Story (1995)</td>\n",
              "      <td>Adventure|Animation|Children|Comedy|Fantasy</td>\n",
              "      <td>One of the other reviewers has mentioned that ...</td>\n",
              "      <td>9.2</td>\n",
              "    </tr>\n",
              "    <tr>\n",
              "      <th>1</th>\n",
              "      <td>1</td>\n",
              "      <td>1.0</td>\n",
              "      <td>2.0</td>\n",
              "      <td>Jumanji (1995)</td>\n",
              "      <td>Adventure|Children|Fantasy</td>\n",
              "      <td>A wonderful little production.The filming tech...</td>\n",
              "      <td>8.9</td>\n",
              "    </tr>\n",
              "    <tr>\n",
              "      <th>2</th>\n",
              "      <td>2</td>\n",
              "      <td>1.0</td>\n",
              "      <td>3.0</td>\n",
              "      <td>Grumpier Old Men (1995)</td>\n",
              "      <td>Comedy|Romance</td>\n",
              "      <td>NaN</td>\n",
              "      <td>8.4</td>\n",
              "    </tr>\n",
              "    <tr>\n",
              "      <th>3</th>\n",
              "      <td>3</td>\n",
              "      <td>1.0</td>\n",
              "      <td>4.0</td>\n",
              "      <td>Waiting to Exhale (1995)</td>\n",
              "      <td>Comedy|Drama|Romance</td>\n",
              "      <td>Basically there's a family where a little boy ...</td>\n",
              "      <td>5.4</td>\n",
              "    </tr>\n",
              "    <tr>\n",
              "      <th>4</th>\n",
              "      <td>4</td>\n",
              "      <td>1.0</td>\n",
              "      <td>5.0</td>\n",
              "      <td>Father of the Bride Part II (1995)</td>\n",
              "      <td>Comedy</td>\n",
              "      <td>Petter Mattei's \"Love in the Time of Money\" is...</td>\n",
              "      <td>8.2</td>\n",
              "    </tr>\n",
              "    <tr>\n",
              "      <th>...</th>\n",
              "      <td>...</td>\n",
              "      <td>...</td>\n",
              "      <td>...</td>\n",
              "      <td>...</td>\n",
              "      <td>...</td>\n",
              "      <td>...</td>\n",
              "      <td>...</td>\n",
              "    </tr>\n",
              "    <tr>\n",
              "      <th>50008</th>\n",
              "      <td>50008</td>\n",
              "      <td>302.0</td>\n",
              "      <td>120729.0</td>\n",
              "      <td>Mexican Spitfire's Elephant (1942)</td>\n",
              "      <td>Comedy|Romance</td>\n",
              "      <td>The story line is taken in a good manner</td>\n",
              "      <td>10.0</td>\n",
              "    </tr>\n",
              "    <tr>\n",
              "      <th>50009</th>\n",
              "      <td>50009</td>\n",
              "      <td>186.0</td>\n",
              "      <td>120731.0</td>\n",
              "      <td>Revolt of the Slaves (1960)</td>\n",
              "      <td>Adventure</td>\n",
              "      <td>It is very exciting and is such a wonderfull m...</td>\n",
              "      <td>9.0</td>\n",
              "    </tr>\n",
              "    <tr>\n",
              "      <th>50010</th>\n",
              "      <td>50010</td>\n",
              "      <td>18.0</td>\n",
              "      <td>120733.0</td>\n",
              "      <td>Mexican Spitfire Sees a Ghost (1942)</td>\n",
              "      <td>Comedy</td>\n",
              "      <td>the end credits are so good that I busted out ...</td>\n",
              "      <td>9.2</td>\n",
              "    </tr>\n",
              "    <tr>\n",
              "      <th>50011</th>\n",
              "      <td>50011</td>\n",
              "      <td>24.0</td>\n",
              "      <td>120735.0</td>\n",
              "      <td>Love Chronicles (2003)</td>\n",
              "      <td>Drama|Romance</td>\n",
              "      <td>itÆs a well developed storyline without any lag</td>\n",
              "      <td>9.5</td>\n",
              "    </tr>\n",
              "    <tr>\n",
              "      <th>50012</th>\n",
              "      <td>50012</td>\n",
              "      <td>NaN</td>\n",
              "      <td>NaN</td>\n",
              "      <td>NaN</td>\n",
              "      <td>NaN</td>\n",
              "      <td>itÆs a visual wonder</td>\n",
              "      <td>8.9</td>\n",
              "    </tr>\n",
              "  </tbody>\n",
              "</table>\n",
              "<p>50013 rows × 7 columns</p>\n",
              "</div>"
            ],
            "text/plain": [
              "       Unnamed: 0  ...  rating\n",
              "0               0  ...     9.2\n",
              "1               1  ...     8.9\n",
              "2               2  ...     8.4\n",
              "3               3  ...     5.4\n",
              "4               4  ...     8.2\n",
              "...           ...  ...     ...\n",
              "50008       50008  ...    10.0\n",
              "50009       50009  ...     9.0\n",
              "50010       50010  ...     9.2\n",
              "50011       50011  ...     9.5\n",
              "50012       50012  ...     8.9\n",
              "\n",
              "[50013 rows x 7 columns]"
            ]
          },
          "metadata": {},
          "execution_count": 3
        }
      ]
    },
    {
      "cell_type": "markdown",
      "metadata": {
        "id": "0a55AHJHvcjb"
      },
      "source": [
        "# ***Imputation***"
      ]
    },
    {
      "cell_type": "code",
      "metadata": {
        "colab": {
          "base_uri": "https://localhost:8080/"
        },
        "id": "J8T_6S-XXgwL",
        "outputId": "b79b3f6d-9d94-409d-8b0b-9dbce172e8d3"
      },
      "source": [
        "df.dtypes                  # data type of each column"
      ],
      "execution_count": 4,
      "outputs": [
        {
          "output_type": "execute_result",
          "data": {
            "text/plain": [
              "Unnamed: 0      int64\n",
              "userId        float64\n",
              "movieId       float64\n",
              "title          object\n",
              "genres         object\n",
              "review         object\n",
              "rating        float64\n",
              "dtype: object"
            ]
          },
          "metadata": {},
          "execution_count": 4
        }
      ]
    },
    {
      "cell_type": "code",
      "metadata": {
        "id": "DKD6hiQBXon0"
      },
      "source": [
        "df.drop(['Unnamed: 0'],axis=1,inplace=True)  # dropped column named unknown"
      ],
      "execution_count": 5,
      "outputs": []
    },
    {
      "cell_type": "code",
      "metadata": {
        "colab": {
          "base_uri": "https://localhost:8080/"
        },
        "id": "OgqeIpD5XKzJ",
        "outputId": "bb428f21-aea2-49ec-a608-ef42e152e4ef"
      },
      "source": [
        "df.isnull().sum()"
      ],
      "execution_count": 6,
      "outputs": [
        {
          "output_type": "execute_result",
          "data": {
            "text/plain": [
              "userId        1\n",
              "movieId       1\n",
              "title         1\n",
              "genres     3759\n",
              "review      103\n",
              "rating        0\n",
              "dtype: int64"
            ]
          },
          "metadata": {},
          "execution_count": 6
        }
      ]
    },
    {
      "cell_type": "code",
      "metadata": {
        "id": "Etp7sfCcXT9K"
      },
      "source": [
        "df.drop(50012,axis=0,inplace=True)  # dropped last row"
      ],
      "execution_count": 7,
      "outputs": []
    },
    {
      "cell_type": "code",
      "metadata": {
        "colab": {
          "base_uri": "https://localhost:8080/",
          "height": 450
        },
        "id": "51jVLtVxj6mG",
        "outputId": "9f43ed03-70be-4083-aed4-e754ba0ec076"
      },
      "source": [
        "df"
      ],
      "execution_count": 8,
      "outputs": [
        {
          "output_type": "execute_result",
          "data": {
            "text/html": [
              "<div>\n",
              "<style scoped>\n",
              "    .dataframe tbody tr th:only-of-type {\n",
              "        vertical-align: middle;\n",
              "    }\n",
              "\n",
              "    .dataframe tbody tr th {\n",
              "        vertical-align: top;\n",
              "    }\n",
              "\n",
              "    .dataframe thead th {\n",
              "        text-align: right;\n",
              "    }\n",
              "</style>\n",
              "<table border=\"1\" class=\"dataframe\">\n",
              "  <thead>\n",
              "    <tr style=\"text-align: right;\">\n",
              "      <th></th>\n",
              "      <th>userId</th>\n",
              "      <th>movieId</th>\n",
              "      <th>title</th>\n",
              "      <th>genres</th>\n",
              "      <th>review</th>\n",
              "      <th>rating</th>\n",
              "    </tr>\n",
              "  </thead>\n",
              "  <tbody>\n",
              "    <tr>\n",
              "      <th>0</th>\n",
              "      <td>1.0</td>\n",
              "      <td>1.0</td>\n",
              "      <td>Toy Story (1995)</td>\n",
              "      <td>Adventure|Animation|Children|Comedy|Fantasy</td>\n",
              "      <td>One of the other reviewers has mentioned that ...</td>\n",
              "      <td>9.2</td>\n",
              "    </tr>\n",
              "    <tr>\n",
              "      <th>1</th>\n",
              "      <td>1.0</td>\n",
              "      <td>2.0</td>\n",
              "      <td>Jumanji (1995)</td>\n",
              "      <td>Adventure|Children|Fantasy</td>\n",
              "      <td>A wonderful little production.The filming tech...</td>\n",
              "      <td>8.9</td>\n",
              "    </tr>\n",
              "    <tr>\n",
              "      <th>2</th>\n",
              "      <td>1.0</td>\n",
              "      <td>3.0</td>\n",
              "      <td>Grumpier Old Men (1995)</td>\n",
              "      <td>Comedy|Romance</td>\n",
              "      <td>NaN</td>\n",
              "      <td>8.4</td>\n",
              "    </tr>\n",
              "    <tr>\n",
              "      <th>3</th>\n",
              "      <td>1.0</td>\n",
              "      <td>4.0</td>\n",
              "      <td>Waiting to Exhale (1995)</td>\n",
              "      <td>Comedy|Drama|Romance</td>\n",
              "      <td>Basically there's a family where a little boy ...</td>\n",
              "      <td>5.4</td>\n",
              "    </tr>\n",
              "    <tr>\n",
              "      <th>4</th>\n",
              "      <td>1.0</td>\n",
              "      <td>5.0</td>\n",
              "      <td>Father of the Bride Part II (1995)</td>\n",
              "      <td>Comedy</td>\n",
              "      <td>Petter Mattei's \"Love in the Time of Money\" is...</td>\n",
              "      <td>8.2</td>\n",
              "    </tr>\n",
              "    <tr>\n",
              "      <th>...</th>\n",
              "      <td>...</td>\n",
              "      <td>...</td>\n",
              "      <td>...</td>\n",
              "      <td>...</td>\n",
              "      <td>...</td>\n",
              "      <td>...</td>\n",
              "    </tr>\n",
              "    <tr>\n",
              "      <th>50007</th>\n",
              "      <td>397.0</td>\n",
              "      <td>120641.0</td>\n",
              "      <td>Santa Fe (1951)</td>\n",
              "      <td>Action|Romance|Western</td>\n",
              "      <td>it isnt good and I am very disappoined</td>\n",
              "      <td>6.1</td>\n",
              "    </tr>\n",
              "    <tr>\n",
              "      <th>50008</th>\n",
              "      <td>302.0</td>\n",
              "      <td>120729.0</td>\n",
              "      <td>Mexican Spitfire's Elephant (1942)</td>\n",
              "      <td>Comedy|Romance</td>\n",
              "      <td>The story line is taken in a good manner</td>\n",
              "      <td>10.0</td>\n",
              "    </tr>\n",
              "    <tr>\n",
              "      <th>50009</th>\n",
              "      <td>186.0</td>\n",
              "      <td>120731.0</td>\n",
              "      <td>Revolt of the Slaves (1960)</td>\n",
              "      <td>Adventure</td>\n",
              "      <td>It is very exciting and is such a wonderfull m...</td>\n",
              "      <td>9.0</td>\n",
              "    </tr>\n",
              "    <tr>\n",
              "      <th>50010</th>\n",
              "      <td>18.0</td>\n",
              "      <td>120733.0</td>\n",
              "      <td>Mexican Spitfire Sees a Ghost (1942)</td>\n",
              "      <td>Comedy</td>\n",
              "      <td>the end credits are so good that I busted out ...</td>\n",
              "      <td>9.2</td>\n",
              "    </tr>\n",
              "    <tr>\n",
              "      <th>50011</th>\n",
              "      <td>24.0</td>\n",
              "      <td>120735.0</td>\n",
              "      <td>Love Chronicles (2003)</td>\n",
              "      <td>Drama|Romance</td>\n",
              "      <td>itÆs a well developed storyline without any lag</td>\n",
              "      <td>9.5</td>\n",
              "    </tr>\n",
              "  </tbody>\n",
              "</table>\n",
              "<p>50012 rows × 6 columns</p>\n",
              "</div>"
            ],
            "text/plain": [
              "       userId  ...  rating\n",
              "0         1.0  ...     9.2\n",
              "1         1.0  ...     8.9\n",
              "2         1.0  ...     8.4\n",
              "3         1.0  ...     5.4\n",
              "4         1.0  ...     8.2\n",
              "...       ...  ...     ...\n",
              "50007   397.0  ...     6.1\n",
              "50008   302.0  ...    10.0\n",
              "50009   186.0  ...     9.0\n",
              "50010    18.0  ...     9.2\n",
              "50011    24.0  ...     9.5\n",
              "\n",
              "[50012 rows x 6 columns]"
            ]
          },
          "metadata": {},
          "execution_count": 8
        }
      ]
    },
    {
      "cell_type": "code",
      "metadata": {
        "colab": {
          "base_uri": "https://localhost:8080/"
        },
        "id": "d99mO0_VlU6K",
        "outputId": "8852dd0b-c56d-4188-8ba0-8f72ecc0e672"
      },
      "source": [
        "df.isnull().sum() # count of null value in each column"
      ],
      "execution_count": 9,
      "outputs": [
        {
          "output_type": "execute_result",
          "data": {
            "text/plain": [
              "userId        0\n",
              "movieId       0\n",
              "title         0\n",
              "genres     3758\n",
              "review      103\n",
              "rating        0\n",
              "dtype: int64"
            ]
          },
          "metadata": {},
          "execution_count": 9
        }
      ]
    },
    {
      "cell_type": "code",
      "metadata": {
        "colab": {
          "base_uri": "https://localhost:8080/"
        },
        "id": "P5NzhxSjoSo9",
        "outputId": "7d1160bb-f2a8-46ae-b206-7c70fa125307"
      },
      "source": [
        "df.dtypes"
      ],
      "execution_count": 10,
      "outputs": [
        {
          "output_type": "execute_result",
          "data": {
            "text/plain": [
              "userId     float64\n",
              "movieId    float64\n",
              "title       object\n",
              "genres      object\n",
              "review      object\n",
              "rating     float64\n",
              "dtype: object"
            ]
          },
          "metadata": {},
          "execution_count": 10
        }
      ]
    },
    {
      "cell_type": "code",
      "metadata": {
        "id": "McOMSTcBooFp"
      },
      "source": [
        "df['userId']=df['userId'].astype(int)     # changing datatype to int from float"
      ],
      "execution_count": 11,
      "outputs": []
    },
    {
      "cell_type": "code",
      "metadata": {
        "id": "YXoqXXpTouaI"
      },
      "source": [
        "df['movieId']=df['movieId'].astype(int)   # changing datatype to int from float"
      ],
      "execution_count": 12,
      "outputs": []
    },
    {
      "cell_type": "code",
      "metadata": {
        "colab": {
          "base_uri": "https://localhost:8080/",
          "height": 450
        },
        "id": "ok2b2Hdwox1a",
        "outputId": "e5082f80-bc48-4da0-a01e-354b6aa2493f"
      },
      "source": [
        "df"
      ],
      "execution_count": 13,
      "outputs": [
        {
          "output_type": "execute_result",
          "data": {
            "text/html": [
              "<div>\n",
              "<style scoped>\n",
              "    .dataframe tbody tr th:only-of-type {\n",
              "        vertical-align: middle;\n",
              "    }\n",
              "\n",
              "    .dataframe tbody tr th {\n",
              "        vertical-align: top;\n",
              "    }\n",
              "\n",
              "    .dataframe thead th {\n",
              "        text-align: right;\n",
              "    }\n",
              "</style>\n",
              "<table border=\"1\" class=\"dataframe\">\n",
              "  <thead>\n",
              "    <tr style=\"text-align: right;\">\n",
              "      <th></th>\n",
              "      <th>userId</th>\n",
              "      <th>movieId</th>\n",
              "      <th>title</th>\n",
              "      <th>genres</th>\n",
              "      <th>review</th>\n",
              "      <th>rating</th>\n",
              "    </tr>\n",
              "  </thead>\n",
              "  <tbody>\n",
              "    <tr>\n",
              "      <th>0</th>\n",
              "      <td>1</td>\n",
              "      <td>1</td>\n",
              "      <td>Toy Story (1995)</td>\n",
              "      <td>Adventure|Animation|Children|Comedy|Fantasy</td>\n",
              "      <td>One of the other reviewers has mentioned that ...</td>\n",
              "      <td>9.2</td>\n",
              "    </tr>\n",
              "    <tr>\n",
              "      <th>1</th>\n",
              "      <td>1</td>\n",
              "      <td>2</td>\n",
              "      <td>Jumanji (1995)</td>\n",
              "      <td>Adventure|Children|Fantasy</td>\n",
              "      <td>A wonderful little production.The filming tech...</td>\n",
              "      <td>8.9</td>\n",
              "    </tr>\n",
              "    <tr>\n",
              "      <th>2</th>\n",
              "      <td>1</td>\n",
              "      <td>3</td>\n",
              "      <td>Grumpier Old Men (1995)</td>\n",
              "      <td>Comedy|Romance</td>\n",
              "      <td>NaN</td>\n",
              "      <td>8.4</td>\n",
              "    </tr>\n",
              "    <tr>\n",
              "      <th>3</th>\n",
              "      <td>1</td>\n",
              "      <td>4</td>\n",
              "      <td>Waiting to Exhale (1995)</td>\n",
              "      <td>Comedy|Drama|Romance</td>\n",
              "      <td>Basically there's a family where a little boy ...</td>\n",
              "      <td>5.4</td>\n",
              "    </tr>\n",
              "    <tr>\n",
              "      <th>4</th>\n",
              "      <td>1</td>\n",
              "      <td>5</td>\n",
              "      <td>Father of the Bride Part II (1995)</td>\n",
              "      <td>Comedy</td>\n",
              "      <td>Petter Mattei's \"Love in the Time of Money\" is...</td>\n",
              "      <td>8.2</td>\n",
              "    </tr>\n",
              "    <tr>\n",
              "      <th>...</th>\n",
              "      <td>...</td>\n",
              "      <td>...</td>\n",
              "      <td>...</td>\n",
              "      <td>...</td>\n",
              "      <td>...</td>\n",
              "      <td>...</td>\n",
              "    </tr>\n",
              "    <tr>\n",
              "      <th>50007</th>\n",
              "      <td>397</td>\n",
              "      <td>120641</td>\n",
              "      <td>Santa Fe (1951)</td>\n",
              "      <td>Action|Romance|Western</td>\n",
              "      <td>it isnt good and I am very disappoined</td>\n",
              "      <td>6.1</td>\n",
              "    </tr>\n",
              "    <tr>\n",
              "      <th>50008</th>\n",
              "      <td>302</td>\n",
              "      <td>120729</td>\n",
              "      <td>Mexican Spitfire's Elephant (1942)</td>\n",
              "      <td>Comedy|Romance</td>\n",
              "      <td>The story line is taken in a good manner</td>\n",
              "      <td>10.0</td>\n",
              "    </tr>\n",
              "    <tr>\n",
              "      <th>50009</th>\n",
              "      <td>186</td>\n",
              "      <td>120731</td>\n",
              "      <td>Revolt of the Slaves (1960)</td>\n",
              "      <td>Adventure</td>\n",
              "      <td>It is very exciting and is such a wonderfull m...</td>\n",
              "      <td>9.0</td>\n",
              "    </tr>\n",
              "    <tr>\n",
              "      <th>50010</th>\n",
              "      <td>18</td>\n",
              "      <td>120733</td>\n",
              "      <td>Mexican Spitfire Sees a Ghost (1942)</td>\n",
              "      <td>Comedy</td>\n",
              "      <td>the end credits are so good that I busted out ...</td>\n",
              "      <td>9.2</td>\n",
              "    </tr>\n",
              "    <tr>\n",
              "      <th>50011</th>\n",
              "      <td>24</td>\n",
              "      <td>120735</td>\n",
              "      <td>Love Chronicles (2003)</td>\n",
              "      <td>Drama|Romance</td>\n",
              "      <td>itÆs a well developed storyline without any lag</td>\n",
              "      <td>9.5</td>\n",
              "    </tr>\n",
              "  </tbody>\n",
              "</table>\n",
              "<p>50012 rows × 6 columns</p>\n",
              "</div>"
            ],
            "text/plain": [
              "       userId  ...  rating\n",
              "0           1  ...     9.2\n",
              "1           1  ...     8.9\n",
              "2           1  ...     8.4\n",
              "3           1  ...     5.4\n",
              "4           1  ...     8.2\n",
              "...       ...  ...     ...\n",
              "50007     397  ...     6.1\n",
              "50008     302  ...    10.0\n",
              "50009     186  ...     9.0\n",
              "50010      18  ...     9.2\n",
              "50011      24  ...     9.5\n",
              "\n",
              "[50012 rows x 6 columns]"
            ]
          },
          "metadata": {},
          "execution_count": 13
        }
      ]
    },
    {
      "cell_type": "code",
      "metadata": {
        "id": "6hS9w-0_pxlU",
        "outputId": "b5600cd6-206e-4f1a-8a04-6efb9270abe5",
        "colab": {
          "base_uri": "https://localhost:8080/"
        }
      },
      "source": [
        "df.loc[df['genres'].isnull()==True,'movieId'] # checking null values in column genres"
      ],
      "execution_count": 14,
      "outputs": [
        {
          "output_type": "execute_result",
          "data": {
            "text/plain": [
              "15881     83773\n",
              "16060     84768\n",
              "16351     86493\n",
              "16491     87061\n",
              "17404     91246\n",
              "          ...  \n",
              "49968    179995\n",
              "49972    180003\n",
              "49973    180005\n",
              "49993    180049\n",
              "49995    180053\n",
              "Name: movieId, Length: 3758, dtype: int64"
            ]
          },
          "metadata": {},
          "execution_count": 14
        }
      ]
    },
    {
      "cell_type": "code",
      "metadata": {
        "id": "YOtmwS6Yq-K5"
      },
      "source": [
        "df['genres'].fillna('All',inplace=True)     # filling nan values"
      ],
      "execution_count": 15,
      "outputs": []
    },
    {
      "cell_type": "code",
      "metadata": {
        "id": "cbg7hzHI4gR3"
      },
      "source": [
        "df['review'].fillna('Good',inplace=True)    # filling nan values"
      ],
      "execution_count": 16,
      "outputs": []
    },
    {
      "cell_type": "code",
      "metadata": {
        "colab": {
          "base_uri": "https://localhost:8080/"
        },
        "id": "Zp7iRcrqry7m",
        "outputId": "03bf203b-71bb-42e0-a1c1-b3aed82d880c"
      },
      "source": [
        "df.isnull().sum()       # final count of null values"
      ],
      "execution_count": 17,
      "outputs": [
        {
          "output_type": "execute_result",
          "data": {
            "text/plain": [
              "userId     0\n",
              "movieId    0\n",
              "title      0\n",
              "genres     0\n",
              "review     0\n",
              "rating     0\n",
              "dtype: int64"
            ]
          },
          "metadata": {},
          "execution_count": 17
        }
      ]
    },
    {
      "cell_type": "markdown",
      "metadata": {
        "id": "OJgy0_PJvUrA"
      },
      "source": [
        "## ***Preprocessing***"
      ]
    },
    {
      "cell_type": "code",
      "metadata": {
        "colab": {
          "base_uri": "https://localhost:8080/",
          "height": 295
        },
        "id": "-qZoEUCGw88P",
        "outputId": "a0622f4e-bf7e-4e56-9a06-88e3d709b857"
      },
      "source": [
        "df.describe()         # dataframe description excluding categorical data"
      ],
      "execution_count": 18,
      "outputs": [
        {
          "output_type": "execute_result",
          "data": {
            "text/html": [
              "<div>\n",
              "<style scoped>\n",
              "    .dataframe tbody tr th:only-of-type {\n",
              "        vertical-align: middle;\n",
              "    }\n",
              "\n",
              "    .dataframe tbody tr th {\n",
              "        vertical-align: top;\n",
              "    }\n",
              "\n",
              "    .dataframe thead th {\n",
              "        text-align: right;\n",
              "    }\n",
              "</style>\n",
              "<table border=\"1\" class=\"dataframe\">\n",
              "  <thead>\n",
              "    <tr style=\"text-align: right;\">\n",
              "      <th></th>\n",
              "      <th>userId</th>\n",
              "      <th>movieId</th>\n",
              "      <th>rating</th>\n",
              "    </tr>\n",
              "  </thead>\n",
              "  <tbody>\n",
              "    <tr>\n",
              "      <th>count</th>\n",
              "      <td>50012.000000</td>\n",
              "      <td>50012.000000</td>\n",
              "      <td>50012.000000</td>\n",
              "    </tr>\n",
              "    <tr>\n",
              "      <th>mean</th>\n",
              "      <td>195.318943</td>\n",
              "      <td>104437.677777</td>\n",
              "      <td>6.627409</td>\n",
              "    </tr>\n",
              "    <tr>\n",
              "      <th>std</th>\n",
              "      <td>116.375446</td>\n",
              "      <td>58237.662083</td>\n",
              "      <td>2.794826</td>\n",
              "    </tr>\n",
              "    <tr>\n",
              "      <th>min</th>\n",
              "      <td>1.000000</td>\n",
              "      <td>1.000000</td>\n",
              "      <td>1.000000</td>\n",
              "    </tr>\n",
              "    <tr>\n",
              "      <th>25%</th>\n",
              "      <td>92.000000</td>\n",
              "      <td>60467.500000</td>\n",
              "      <td>4.300000</td>\n",
              "    </tr>\n",
              "    <tr>\n",
              "      <th>50%</th>\n",
              "      <td>187.000000</td>\n",
              "      <td>122759.000000</td>\n",
              "      <td>7.500000</td>\n",
              "    </tr>\n",
              "    <tr>\n",
              "      <th>75%</th>\n",
              "      <td>294.000000</td>\n",
              "      <td>152784.000000</td>\n",
              "      <td>9.000000</td>\n",
              "    </tr>\n",
              "    <tr>\n",
              "      <th>max</th>\n",
              "      <td>406.000000</td>\n",
              "      <td>180061.000000</td>\n",
              "      <td>10.000000</td>\n",
              "    </tr>\n",
              "  </tbody>\n",
              "</table>\n",
              "</div>"
            ],
            "text/plain": [
              "             userId        movieId        rating\n",
              "count  50012.000000   50012.000000  50012.000000\n",
              "mean     195.318943  104437.677777      6.627409\n",
              "std      116.375446   58237.662083      2.794826\n",
              "min        1.000000       1.000000      1.000000\n",
              "25%       92.000000   60467.500000      4.300000\n",
              "50%      187.000000  122759.000000      7.500000\n",
              "75%      294.000000  152784.000000      9.000000\n",
              "max      406.000000  180061.000000     10.000000"
            ]
          },
          "metadata": {},
          "execution_count": 18
        }
      ]
    },
    {
      "cell_type": "code",
      "metadata": {
        "id": "ss6dkF23r0YM"
      },
      "source": [
        "df2=df[['movieId','title','rating']]      # creating new dataframe by copying column values"
      ],
      "execution_count": 19,
      "outputs": []
    },
    {
      "cell_type": "code",
      "metadata": {
        "colab": {
          "base_uri": "https://localhost:8080/",
          "height": 417
        },
        "id": "tW2OIHTvw2s0",
        "outputId": "21325762-eed2-4403-9598-774da569b937"
      },
      "source": [
        "df2"
      ],
      "execution_count": 20,
      "outputs": [
        {
          "output_type": "execute_result",
          "data": {
            "text/html": [
              "<div>\n",
              "<style scoped>\n",
              "    .dataframe tbody tr th:only-of-type {\n",
              "        vertical-align: middle;\n",
              "    }\n",
              "\n",
              "    .dataframe tbody tr th {\n",
              "        vertical-align: top;\n",
              "    }\n",
              "\n",
              "    .dataframe thead th {\n",
              "        text-align: right;\n",
              "    }\n",
              "</style>\n",
              "<table border=\"1\" class=\"dataframe\">\n",
              "  <thead>\n",
              "    <tr style=\"text-align: right;\">\n",
              "      <th></th>\n",
              "      <th>movieId</th>\n",
              "      <th>title</th>\n",
              "      <th>rating</th>\n",
              "    </tr>\n",
              "  </thead>\n",
              "  <tbody>\n",
              "    <tr>\n",
              "      <th>0</th>\n",
              "      <td>1</td>\n",
              "      <td>Toy Story (1995)</td>\n",
              "      <td>9.2</td>\n",
              "    </tr>\n",
              "    <tr>\n",
              "      <th>1</th>\n",
              "      <td>2</td>\n",
              "      <td>Jumanji (1995)</td>\n",
              "      <td>8.9</td>\n",
              "    </tr>\n",
              "    <tr>\n",
              "      <th>2</th>\n",
              "      <td>3</td>\n",
              "      <td>Grumpier Old Men (1995)</td>\n",
              "      <td>8.4</td>\n",
              "    </tr>\n",
              "    <tr>\n",
              "      <th>3</th>\n",
              "      <td>4</td>\n",
              "      <td>Waiting to Exhale (1995)</td>\n",
              "      <td>5.4</td>\n",
              "    </tr>\n",
              "    <tr>\n",
              "      <th>4</th>\n",
              "      <td>5</td>\n",
              "      <td>Father of the Bride Part II (1995)</td>\n",
              "      <td>8.2</td>\n",
              "    </tr>\n",
              "    <tr>\n",
              "      <th>...</th>\n",
              "      <td>...</td>\n",
              "      <td>...</td>\n",
              "      <td>...</td>\n",
              "    </tr>\n",
              "    <tr>\n",
              "      <th>50007</th>\n",
              "      <td>120641</td>\n",
              "      <td>Santa Fe (1951)</td>\n",
              "      <td>6.1</td>\n",
              "    </tr>\n",
              "    <tr>\n",
              "      <th>50008</th>\n",
              "      <td>120729</td>\n",
              "      <td>Mexican Spitfire's Elephant (1942)</td>\n",
              "      <td>10.0</td>\n",
              "    </tr>\n",
              "    <tr>\n",
              "      <th>50009</th>\n",
              "      <td>120731</td>\n",
              "      <td>Revolt of the Slaves (1960)</td>\n",
              "      <td>9.0</td>\n",
              "    </tr>\n",
              "    <tr>\n",
              "      <th>50010</th>\n",
              "      <td>120733</td>\n",
              "      <td>Mexican Spitfire Sees a Ghost (1942)</td>\n",
              "      <td>9.2</td>\n",
              "    </tr>\n",
              "    <tr>\n",
              "      <th>50011</th>\n",
              "      <td>120735</td>\n",
              "      <td>Love Chronicles (2003)</td>\n",
              "      <td>9.5</td>\n",
              "    </tr>\n",
              "  </tbody>\n",
              "</table>\n",
              "<p>50012 rows × 3 columns</p>\n",
              "</div>"
            ],
            "text/plain": [
              "       movieId                                 title  rating\n",
              "0            1                      Toy Story (1995)     9.2\n",
              "1            2                        Jumanji (1995)     8.9\n",
              "2            3               Grumpier Old Men (1995)     8.4\n",
              "3            4              Waiting to Exhale (1995)     5.4\n",
              "4            5    Father of the Bride Part II (1995)     8.2\n",
              "...        ...                                   ...     ...\n",
              "50007   120641                       Santa Fe (1951)     6.1\n",
              "50008   120729    Mexican Spitfire's Elephant (1942)    10.0\n",
              "50009   120731           Revolt of the Slaves (1960)     9.0\n",
              "50010   120733  Mexican Spitfire Sees a Ghost (1942)     9.2\n",
              "50011   120735                Love Chronicles (2003)     9.5\n",
              "\n",
              "[50012 rows x 3 columns]"
            ]
          },
          "metadata": {},
          "execution_count": 20
        }
      ]
    },
    {
      "cell_type": "markdown",
      "metadata": {
        "id": "9Tll9IvkIuWy"
      },
      "source": [
        "**Creating** a new column called sentiment based on ratings"
      ]
    },
    {
      "cell_type": "code",
      "metadata": {
        "colab": {
          "base_uri": "https://localhost:8080/"
        },
        "id": "ZrT0FEN2w5ri",
        "outputId": "208720f4-2da9-48a5-c1ab-2f530d958bec"
      },
      "source": [
        "for i in range(len(df2)):\n",
        "  if df2.iloc[i]['rating']>=8.0:\n",
        "    df2.at[i,'sentiment']=\"POSITIVE\"\n",
        "  else:\n",
        "    df2.at[i,'sentiment']=\"NEGATIVE\""
      ],
      "execution_count": 21,
      "outputs": [
        {
          "output_type": "stream",
          "name": "stderr",
          "text": [
            "/usr/local/lib/python3.7/dist-packages/pandas/core/indexing.py:1596: SettingWithCopyWarning: \n",
            "A value is trying to be set on a copy of a slice from a DataFrame.\n",
            "Try using .loc[row_indexer,col_indexer] = value instead\n",
            "\n",
            "See the caveats in the documentation: https://pandas.pydata.org/pandas-docs/stable/user_guide/indexing.html#returning-a-view-versus-a-copy\n",
            "  self.obj[key] = _infer_fill_value(value)\n",
            "/usr/local/lib/python3.7/dist-packages/pandas/core/indexing.py:1763: SettingWithCopyWarning: \n",
            "A value is trying to be set on a copy of a slice from a DataFrame.\n",
            "Try using .loc[row_indexer,col_indexer] = value instead\n",
            "\n",
            "See the caveats in the documentation: https://pandas.pydata.org/pandas-docs/stable/user_guide/indexing.html#returning-a-view-versus-a-copy\n",
            "  isetter(loc, value)\n"
          ]
        }
      ]
    },
    {
      "cell_type": "code",
      "metadata": {
        "colab": {
          "base_uri": "https://localhost:8080/",
          "height": 417
        },
        "id": "Er4HJi5mxjOZ",
        "outputId": "b6f0bb0a-0bcb-4ee9-e016-21cbdd2d39b1"
      },
      "source": [
        "df2 # after creating new column "
      ],
      "execution_count": 22,
      "outputs": [
        {
          "output_type": "execute_result",
          "data": {
            "text/html": [
              "<div>\n",
              "<style scoped>\n",
              "    .dataframe tbody tr th:only-of-type {\n",
              "        vertical-align: middle;\n",
              "    }\n",
              "\n",
              "    .dataframe tbody tr th {\n",
              "        vertical-align: top;\n",
              "    }\n",
              "\n",
              "    .dataframe thead th {\n",
              "        text-align: right;\n",
              "    }\n",
              "</style>\n",
              "<table border=\"1\" class=\"dataframe\">\n",
              "  <thead>\n",
              "    <tr style=\"text-align: right;\">\n",
              "      <th></th>\n",
              "      <th>movieId</th>\n",
              "      <th>title</th>\n",
              "      <th>rating</th>\n",
              "      <th>sentiment</th>\n",
              "    </tr>\n",
              "  </thead>\n",
              "  <tbody>\n",
              "    <tr>\n",
              "      <th>0</th>\n",
              "      <td>1</td>\n",
              "      <td>Toy Story (1995)</td>\n",
              "      <td>9.2</td>\n",
              "      <td>POSITIVE</td>\n",
              "    </tr>\n",
              "    <tr>\n",
              "      <th>1</th>\n",
              "      <td>2</td>\n",
              "      <td>Jumanji (1995)</td>\n",
              "      <td>8.9</td>\n",
              "      <td>POSITIVE</td>\n",
              "    </tr>\n",
              "    <tr>\n",
              "      <th>2</th>\n",
              "      <td>3</td>\n",
              "      <td>Grumpier Old Men (1995)</td>\n",
              "      <td>8.4</td>\n",
              "      <td>POSITIVE</td>\n",
              "    </tr>\n",
              "    <tr>\n",
              "      <th>3</th>\n",
              "      <td>4</td>\n",
              "      <td>Waiting to Exhale (1995)</td>\n",
              "      <td>5.4</td>\n",
              "      <td>NEGATIVE</td>\n",
              "    </tr>\n",
              "    <tr>\n",
              "      <th>4</th>\n",
              "      <td>5</td>\n",
              "      <td>Father of the Bride Part II (1995)</td>\n",
              "      <td>8.2</td>\n",
              "      <td>POSITIVE</td>\n",
              "    </tr>\n",
              "    <tr>\n",
              "      <th>...</th>\n",
              "      <td>...</td>\n",
              "      <td>...</td>\n",
              "      <td>...</td>\n",
              "      <td>...</td>\n",
              "    </tr>\n",
              "    <tr>\n",
              "      <th>50007</th>\n",
              "      <td>120641</td>\n",
              "      <td>Santa Fe (1951)</td>\n",
              "      <td>6.1</td>\n",
              "      <td>NEGATIVE</td>\n",
              "    </tr>\n",
              "    <tr>\n",
              "      <th>50008</th>\n",
              "      <td>120729</td>\n",
              "      <td>Mexican Spitfire's Elephant (1942)</td>\n",
              "      <td>10.0</td>\n",
              "      <td>POSITIVE</td>\n",
              "    </tr>\n",
              "    <tr>\n",
              "      <th>50009</th>\n",
              "      <td>120731</td>\n",
              "      <td>Revolt of the Slaves (1960)</td>\n",
              "      <td>9.0</td>\n",
              "      <td>POSITIVE</td>\n",
              "    </tr>\n",
              "    <tr>\n",
              "      <th>50010</th>\n",
              "      <td>120733</td>\n",
              "      <td>Mexican Spitfire Sees a Ghost (1942)</td>\n",
              "      <td>9.2</td>\n",
              "      <td>POSITIVE</td>\n",
              "    </tr>\n",
              "    <tr>\n",
              "      <th>50011</th>\n",
              "      <td>120735</td>\n",
              "      <td>Love Chronicles (2003)</td>\n",
              "      <td>9.5</td>\n",
              "      <td>POSITIVE</td>\n",
              "    </tr>\n",
              "  </tbody>\n",
              "</table>\n",
              "<p>50012 rows × 4 columns</p>\n",
              "</div>"
            ],
            "text/plain": [
              "       movieId                                 title  rating sentiment\n",
              "0            1                      Toy Story (1995)     9.2  POSITIVE\n",
              "1            2                        Jumanji (1995)     8.9  POSITIVE\n",
              "2            3               Grumpier Old Men (1995)     8.4  POSITIVE\n",
              "3            4              Waiting to Exhale (1995)     5.4  NEGATIVE\n",
              "4            5    Father of the Bride Part II (1995)     8.2  POSITIVE\n",
              "...        ...                                   ...     ...       ...\n",
              "50007   120641                       Santa Fe (1951)     6.1  NEGATIVE\n",
              "50008   120729    Mexican Spitfire's Elephant (1942)    10.0  POSITIVE\n",
              "50009   120731           Revolt of the Slaves (1960)     9.0  POSITIVE\n",
              "50010   120733  Mexican Spitfire Sees a Ghost (1942)     9.2  POSITIVE\n",
              "50011   120735                Love Chronicles (2003)     9.5  POSITIVE\n",
              "\n",
              "[50012 rows x 4 columns]"
            ]
          },
          "metadata": {},
          "execution_count": 22
        }
      ]
    },
    {
      "cell_type": "code",
      "metadata": {
        "colab": {
          "base_uri": "https://localhost:8080/"
        },
        "id": "0rDCSNUdAsxg",
        "outputId": "7eca9c43-f26a-4e72-e7d7-6aacdff721dc"
      },
      "source": [
        "lb_make = LabelEncoder()              # label encoding the categorical data sentiment\n",
        "df2['sent_code'] = lb_make.fit_transform(df2['sentiment'])"
      ],
      "execution_count": 23,
      "outputs": [
        {
          "output_type": "stream",
          "name": "stderr",
          "text": [
            "/usr/local/lib/python3.7/dist-packages/ipykernel_launcher.py:2: SettingWithCopyWarning: \n",
            "A value is trying to be set on a copy of a slice from a DataFrame.\n",
            "Try using .loc[row_indexer,col_indexer] = value instead\n",
            "\n",
            "See the caveats in the documentation: https://pandas.pydata.org/pandas-docs/stable/user_guide/indexing.html#returning-a-view-versus-a-copy\n",
            "  \n"
          ]
        }
      ]
    },
    {
      "cell_type": "code",
      "metadata": {
        "colab": {
          "base_uri": "https://localhost:8080/",
          "height": 357
        },
        "id": "2uG_IVqYGyiO",
        "outputId": "23d54e68-7313-45c4-8ec6-e934cc7c2faa"
      },
      "source": [
        "df2.head(10)            #final dataframe after preprocessing"
      ],
      "execution_count": 24,
      "outputs": [
        {
          "output_type": "execute_result",
          "data": {
            "text/html": [
              "<div>\n",
              "<style scoped>\n",
              "    .dataframe tbody tr th:only-of-type {\n",
              "        vertical-align: middle;\n",
              "    }\n",
              "\n",
              "    .dataframe tbody tr th {\n",
              "        vertical-align: top;\n",
              "    }\n",
              "\n",
              "    .dataframe thead th {\n",
              "        text-align: right;\n",
              "    }\n",
              "</style>\n",
              "<table border=\"1\" class=\"dataframe\">\n",
              "  <thead>\n",
              "    <tr style=\"text-align: right;\">\n",
              "      <th></th>\n",
              "      <th>movieId</th>\n",
              "      <th>title</th>\n",
              "      <th>rating</th>\n",
              "      <th>sentiment</th>\n",
              "      <th>sent_code</th>\n",
              "    </tr>\n",
              "  </thead>\n",
              "  <tbody>\n",
              "    <tr>\n",
              "      <th>0</th>\n",
              "      <td>1</td>\n",
              "      <td>Toy Story (1995)</td>\n",
              "      <td>9.2</td>\n",
              "      <td>POSITIVE</td>\n",
              "      <td>1</td>\n",
              "    </tr>\n",
              "    <tr>\n",
              "      <th>1</th>\n",
              "      <td>2</td>\n",
              "      <td>Jumanji (1995)</td>\n",
              "      <td>8.9</td>\n",
              "      <td>POSITIVE</td>\n",
              "      <td>1</td>\n",
              "    </tr>\n",
              "    <tr>\n",
              "      <th>2</th>\n",
              "      <td>3</td>\n",
              "      <td>Grumpier Old Men (1995)</td>\n",
              "      <td>8.4</td>\n",
              "      <td>POSITIVE</td>\n",
              "      <td>1</td>\n",
              "    </tr>\n",
              "    <tr>\n",
              "      <th>3</th>\n",
              "      <td>4</td>\n",
              "      <td>Waiting to Exhale (1995)</td>\n",
              "      <td>5.4</td>\n",
              "      <td>NEGATIVE</td>\n",
              "      <td>0</td>\n",
              "    </tr>\n",
              "    <tr>\n",
              "      <th>4</th>\n",
              "      <td>5</td>\n",
              "      <td>Father of the Bride Part II (1995)</td>\n",
              "      <td>8.2</td>\n",
              "      <td>POSITIVE</td>\n",
              "      <td>1</td>\n",
              "    </tr>\n",
              "    <tr>\n",
              "      <th>5</th>\n",
              "      <td>6</td>\n",
              "      <td>Heat (1995)</td>\n",
              "      <td>8.0</td>\n",
              "      <td>POSITIVE</td>\n",
              "      <td>1</td>\n",
              "    </tr>\n",
              "    <tr>\n",
              "      <th>6</th>\n",
              "      <td>7</td>\n",
              "      <td>Sabrina (1995)</td>\n",
              "      <td>9.2</td>\n",
              "      <td>POSITIVE</td>\n",
              "      <td>1</td>\n",
              "    </tr>\n",
              "    <tr>\n",
              "      <th>7</th>\n",
              "      <td>8</td>\n",
              "      <td>Tom and Huck (1995)</td>\n",
              "      <td>6.4</td>\n",
              "      <td>NEGATIVE</td>\n",
              "      <td>0</td>\n",
              "    </tr>\n",
              "    <tr>\n",
              "      <th>8</th>\n",
              "      <td>9</td>\n",
              "      <td>Sudden Death (1995)</td>\n",
              "      <td>1.5</td>\n",
              "      <td>NEGATIVE</td>\n",
              "      <td>0</td>\n",
              "    </tr>\n",
              "    <tr>\n",
              "      <th>9</th>\n",
              "      <td>10</td>\n",
              "      <td>GoldenEye (1995)</td>\n",
              "      <td>8.1</td>\n",
              "      <td>POSITIVE</td>\n",
              "      <td>1</td>\n",
              "    </tr>\n",
              "  </tbody>\n",
              "</table>\n",
              "</div>"
            ],
            "text/plain": [
              "   movieId                               title  rating sentiment  sent_code\n",
              "0        1                    Toy Story (1995)     9.2  POSITIVE          1\n",
              "1        2                      Jumanji (1995)     8.9  POSITIVE          1\n",
              "2        3             Grumpier Old Men (1995)     8.4  POSITIVE          1\n",
              "3        4            Waiting to Exhale (1995)     5.4  NEGATIVE          0\n",
              "4        5  Father of the Bride Part II (1995)     8.2  POSITIVE          1\n",
              "5        6                         Heat (1995)     8.0  POSITIVE          1\n",
              "6        7                      Sabrina (1995)     9.2  POSITIVE          1\n",
              "7        8                 Tom and Huck (1995)     6.4  NEGATIVE          0\n",
              "8        9                 Sudden Death (1995)     1.5  NEGATIVE          0\n",
              "9       10                    GoldenEye (1995)     8.1  POSITIVE          1"
            ]
          },
          "metadata": {},
          "execution_count": 24
        }
      ]
    },
    {
      "cell_type": "code",
      "metadata": {
        "colab": {
          "base_uri": "https://localhost:8080/"
        },
        "id": "TSQhrxnjG1_3",
        "outputId": "de5b8f61-25fc-458f-86e5-7c84fea74386"
      },
      "source": [
        "df2.dtypes"
      ],
      "execution_count": 25,
      "outputs": [
        {
          "output_type": "execute_result",
          "data": {
            "text/plain": [
              "movieId        int64\n",
              "title         object\n",
              "rating       float64\n",
              "sentiment     object\n",
              "sent_code      int64\n",
              "dtype: object"
            ]
          },
          "metadata": {},
          "execution_count": 25
        }
      ]
    },
    {
      "cell_type": "code",
      "metadata": {
        "colab": {
          "base_uri": "https://localhost:8080/"
        },
        "id": "E8zKzsHgJe4o",
        "outputId": "6c7541ce-c5a9-4f78-b4cd-cd43eaaa90c9"
      },
      "source": [
        "df2['title']=df2['title'].astype(str)"
      ],
      "execution_count": 26,
      "outputs": [
        {
          "output_type": "stream",
          "name": "stderr",
          "text": [
            "/usr/local/lib/python3.7/dist-packages/ipykernel_launcher.py:1: SettingWithCopyWarning: \n",
            "A value is trying to be set on a copy of a slice from a DataFrame.\n",
            "Try using .loc[row_indexer,col_indexer] = value instead\n",
            "\n",
            "See the caveats in the documentation: https://pandas.pydata.org/pandas-docs/stable/user_guide/indexing.html#returning-a-view-versus-a-copy\n",
            "  \"\"\"Entry point for launching an IPython kernel.\n"
          ]
        }
      ]
    },
    {
      "cell_type": "code",
      "metadata": {
        "colab": {
          "base_uri": "https://localhost:8080/"
        },
        "id": "JlGAAExFJqZC",
        "outputId": "eb427e58-4e56-4066-e7e5-2e362262e497"
      },
      "source": [
        "df.dtypes"
      ],
      "execution_count": 27,
      "outputs": [
        {
          "output_type": "execute_result",
          "data": {
            "text/plain": [
              "userId       int64\n",
              "movieId      int64\n",
              "title       object\n",
              "genres      object\n",
              "review      object\n",
              "rating     float64\n",
              "dtype: object"
            ]
          },
          "metadata": {},
          "execution_count": 27
        }
      ]
    },
    {
      "cell_type": "code",
      "metadata": {
        "id": "VUVxNRc4JwXj"
      },
      "source": [
        ""
      ],
      "execution_count": null,
      "outputs": []
    }
  ]
}